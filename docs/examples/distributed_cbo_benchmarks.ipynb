{
 "cells": [
  {
   "cell_type": "markdown",
   "id": "b411f3ef-5a45-4da6-8f53-c6fad8ded0db",
   "metadata": {},
   "source": [
    "# Distributed CBO -- Benchmark and Comparison"
   ]
  },
  {
   "cell_type": "code",
   "execution_count": null,
   "id": "d0af71a6-7c39-4ac2-88e1-15bdc1fe9022",
   "metadata": {},
   "outputs": [],
   "source": [
    "%load_ext autoreload\n",
    "%autoreload 2\n",
    "\n",
    "import math\n",
    "import time\n",
    "\n",
    "import matplotlib.pyplot as plt\n",
    "import numpy as np\n",
    "\n",
    "from cbx.dynamics import CBO, DistributedCBO\n",
    "from cbx.objectives import Rastrigin, Ackley, Michalewicz\n",
    "import cbx.utils.termination as term"
   ]
  },
  {
   "cell_type": "markdown",
   "id": "246b871a-bf02-4dd5-961c-60e7dbabcf03",
   "metadata": {},
   "source": [
    "# CBO Configuration"
   ]
  },
  {
   "cell_type": "code",
   "execution_count": null,
   "id": "3b24dcf3-d293-4921-a261-0e11d0292d27",
   "metadata": {},
   "outputs": [],
   "source": [
    "conf = {\n",
    "    'alpha': 40.0,\n",
    "    'dt': 0.1,\n",
    "    'sigma': 1.,\n",
    "    'lamda': 1.0,\n",
    "    'd': 20,\n",
    "    'term_criteria': [term.max_it_term(100)],\n",
    "    'track_args': {'names': ['update_norm', 'energy', 'x', 'consensus', 'drift']},\n",
    "\n",
    "    'noise': 'anisotropic',\n",
    "    'f_dim': '3D'\n",
    "}"
   ]
  },
  {
   "cell_type": "markdown",
   "id": "b046058e-7ff3-454d-be0b-60dba7695bcc",
   "metadata": {},
   "source": [
    "# Define Benchmarking Functions"
   ]
  },
  {
   "cell_type": "code",
   "execution_count": null,
   "id": "340ae6b1",
   "metadata": {},
   "outputs": [],
   "source": [
    "def benchmark_distributed_cbo(\n",
    "    f: callable,\n",
    "    num_runs: int,\n",
    "    max_splitting_factor: int,\n",
    "    max_particles: int,\n",
    "    synchronization_interval: int,\n",
    "    synchronization_method: str,\n",
    "    num_steps: int,\n",
    "    use_async_communication: bool = False,\n",
    "):  \n",
    "    energy_means = []\n",
    "    execution_times = []\n",
    "    for splitting_factor in range(1, max_splitting_factor + 1):\n",
    "        num_particles = math.ceil(max_particles / splitting_factor)\n",
    "        energies = []\n",
    "        for _ in range(num_runs):\n",
    "            dyn = DistributedCBO(\n",
    "                f=f,\n",
    "                num_agent_batches=splitting_factor,\n",
    "                synchronization_interval=synchronization_interval,\n",
    "                synchronization_method=synchronization_method,\n",
    "                use_async_communication=use_async_communication,\n",
    "                N=num_particles,\n",
    "                verbose=False,\n",
    "                max_it=10000,\n",
    "                **conf\n",
    "            )\n",
    "\n",
    "            # Run optimization and measure time\n",
    "            tick = time.time()\n",
    "            energies.append(\n",
    "                f(dyn.optimize(num_steps=num_steps, sched='default'))\n",
    "            )\n",
    "            tock = time.time()\n",
    "            execution_times.append(tock - tick)\n",
    "\n",
    "        mean_energy = np.mean(energies)\n",
    "        print(f\"Splitting factor: {splitting_factor}, mean energy: {mean_energy}. Execution time: {np.mean(execution_times)}\")\n",
    "        energy_means.append(np.mean(energies))  \n",
    "\n",
    "    plt.plot(list(range(1, max_splitting_factor + 1)), energy_means, label='Distributed CBO')\n"
   ]
  },
  {
   "cell_type": "code",
   "execution_count": null,
   "id": "f8b6f51b",
   "metadata": {},
   "outputs": [],
   "source": [
    "def benchmark_standard_cbo(\n",
    "    f: callable,\n",
    "    num_runs: int,\n",
    "    num_particles: int,\n",
    "):\n",
    "    energies = []\n",
    "    execution_times = []\n",
    "    for _ in range(num_runs):\n",
    "        dyn = CBO(\n",
    "            f,\n",
    "            N=num_particles,\n",
    "            verbosity=0,\n",
    "            max_it=10000,\n",
    "            batch_args=None,\n",
    "            M=1,\n",
    "            **conf\n",
    "        )\n",
    "\n",
    "        # Run optimization and measure time\n",
    "        tick = time.time()\n",
    "        energies.append(\n",
    "            f(dyn.optimize())\n",
    "        )\n",
    "        tock = time.time()\n",
    "        execution_times.append(tock - tick)\n",
    "    print(f\"Non distributed mean energy: {np.mean(energies)}. Execution time: {np.mean(execution_times)}\")\n",
    "\n",
    "    # Plot mean of undistributed energies as a horizontal line\n",
    "    plt.axhline(y=np.mean(energies), color='r', linestyle='--', label='Standard CBO')\n"
   ]
  },
  {
   "cell_type": "markdown",
   "id": "a4b6d990",
   "metadata": {},
   "source": [
    "# Benchmark"
   ]
  },
  {
   "cell_type": "markdown",
   "id": "651fd903",
   "metadata": {},
   "source": [
    "### Ackley (d=20) -- Synchronous"
   ]
  },
  {
   "cell_type": "code",
   "execution_count": null,
   "id": "9a893f51",
   "metadata": {},
   "outputs": [],
   "source": [
    "f = Ackley()"
   ]
  },
  {
   "cell_type": "code",
   "execution_count": null,
   "id": "060e0ee9",
   "metadata": {},
   "outputs": [],
   "source": [
    "# Benchmarking params\n",
    "NUM_RUNS = 500\n",
    "MAX_SPLITTING_FACTOR = 10\n",
    "MAX_PARTICLES = 100\n",
    "SYNCHRONIZATION_INTERVAL = 10\n",
    "SYNCHRONIZATION_METHOD = 'weighted_mean'"
   ]
  },
  {
   "cell_type": "code",
   "execution_count": null,
   "id": "2981e4e3",
   "metadata": {},
   "outputs": [],
   "source": [
    "benchmark_distributed_cbo(\n",
    "    f=f,\n",
    "    use_async_communication=False,\n",
    "    num_runs=NUM_RUNS,\n",
    "    max_splitting_factor=MAX_SPLITTING_FACTOR,\n",
    "    max_particles=MAX_PARTICLES,\n",
    "    synchronization_interval=SYNCHRONIZATION_INTERVAL,\n",
    "    synchronization_method=SYNCHRONIZATION_METHOD,\n",
    "    num_steps=1000000   # Arbitrarily high number since we depend on the termination criteria\n",
    ")\n",
    "benchmark_standard_cbo(\n",
    "    f=f,\n",
    "    num_runs=NUM_RUNS,\n",
    "    num_particles=MAX_PARTICLES\n",
    ")\n",
    "\n",
    "d = conf['d']\n",
    "function = f.__class__.__name__ + f\" dim={d}\"\n",
    "\n",
    "plt.xlabel(f\"Splitting factor\")\n",
    "plt.ylabel(f\"Mean energy\")\n",
    "plt.title(f\"{function}\\nsync interval: {SYNCHRONIZATION_INTERVAL}, sync method: {SYNCHRONIZATION_METHOD} (Synchronous), particles: {MAX_PARTICLES}\")\n",
    "plt.show()"
   ]
  },
  {
   "cell_type": "markdown",
   "id": "8b094b56",
   "metadata": {},
   "source": [
    "### Ackley (d=20) -- Asynchronous"
   ]
  },
  {
   "cell_type": "code",
   "execution_count": null,
   "id": "5eeffb34",
   "metadata": {},
   "outputs": [],
   "source": [
    "benchmark_distributed_cbo(\n",
    "    f=f,\n",
    "    use_async_communication=True,\n",
    "    num_runs=NUM_RUNS,\n",
    "    max_splitting_factor=MAX_SPLITTING_FACTOR,\n",
    "    max_particles=MAX_PARTICLES,\n",
    "    synchronization_interval=SYNCHRONIZATION_INTERVAL,\n",
    "    synchronization_method=SYNCHRONIZATION_METHOD,\n",
    "    num_steps=100\n",
    ")\n",
    "benchmark_standard_cbo(\n",
    "    f=f,\n",
    "    num_runs=NUM_RUNS,\n",
    "    num_particles=MAX_PARTICLES\n",
    ")\n",
    "\n",
    "d = conf['d']\n",
    "function = f.__class__.__name__ + f\" dim={d}\"\n",
    "\n",
    "plt.xlabel(f\"Splitting factor\")\n",
    "plt.ylabel(f\"Mean energy\")\n",
    "plt.title(f\"{function}\\nsync interval: {SYNCHRONIZATION_INTERVAL}, sync method: {SYNCHRONIZATION_METHOD} (Synchronous), particles: {MAX_PARTICLES}\")\n",
    "plt.show()"
   ]
  },
  {
   "cell_type": "code",
   "execution_count": null,
   "id": "df9ab3b0",
   "metadata": {},
   "outputs": [],
   "source": []
  }
 ],
 "metadata": {
  "kernelspec": {
   "display_name": "Python 3 (ipykernel)",
   "language": "python",
   "name": "python3"
  },
  "language_info": {
   "codemirror_mode": {
    "name": "ipython",
    "version": 3
   },
   "file_extension": ".py",
   "mimetype": "text/x-python",
   "name": "python",
   "nbconvert_exporter": "python",
   "pygments_lexer": "ipython3",
   "version": "3.8.10"
  }
 },
 "nbformat": 4,
 "nbformat_minor": 5
}
