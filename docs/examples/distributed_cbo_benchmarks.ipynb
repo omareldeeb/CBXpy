{
 "cells": [
  {
   "cell_type": "markdown",
   "id": "b411f3ef-5a45-4da6-8f53-c6fad8ded0db",
   "metadata": {},
   "source": [
    "# Distributed CBO -- Benchmark and Comparison"
   ]
  },
  {
   "cell_type": "code",
   "execution_count": null,
   "id": "d0af71a6-7c39-4ac2-88e1-15bdc1fe9022",
   "metadata": {},
   "outputs": [],
   "source": [
    "%load_ext autoreload\n",
    "%autoreload 2\n",
    "\n",
    "import math\n",
    "import time\n",
    "\n",
    "import matplotlib.pyplot as plt\n",
    "import numpy as np\n",
    "\n",
    "from cbx.dynamics import CBO, DistributedCBO\n",
    "from cbx.objectives import Rastrigin, Ackley, Michalewicz\n",
    "import cbx.utils.termination as term"
   ]
  },
  {
   "cell_type": "markdown",
   "id": "246b871a-bf02-4dd5-961c-60e7dbabcf03",
   "metadata": {},
   "source": [
    "# CBO Configuration"
   ]
  },
  {
   "cell_type": "code",
   "execution_count": null,
   "id": "3b24dcf3-d293-4921-a261-0e11d0292d27",
   "metadata": {},
   "outputs": [],
   "source": [
    "conf = {\n",
    "    'alpha': 40.0,\n",
    "    'dt': 0.1,\n",
    "    'sigma': 1.,\n",
    "    'lamda': 1.0,\n",
    "    'd': 20,\n",
    "    'term_criteria': [term.max_it_term(100)],\n",
    "    'track_args': {'names': ['update_norm', 'energy', 'x', 'consensus', 'drift']},\n",
    "\n",
    "    'noise': 'anisotropic',\n",
    "    'f_dim': '3D'\n",
    "}"
   ]
  },
  {
   "cell_type": "markdown",
   "id": "b046058e-7ff3-454d-be0b-60dba7695bcc",
   "metadata": {},
   "source": [
    "# Define Benchmarking Functions"
   ]
  },
  {
   "cell_type": "code",
   "execution_count": null,
   "id": "340ae6b1",
   "metadata": {},
   "outputs": [],
   "source": [
    "def benchmark_distributed_cbo(\n",
    "    f: callable,\n",
    "    num_runs: int,\n",
    "    max_splitting_factor: int,\n",
    "    max_particles: int,\n",
    "    synchronization_interval: int,\n",
    "    synchronization_method: str,\n",
    "    num_steps: int,\n",
    "    use_async_communication: bool = False,\n",
    "    axs=None,\n",
    "):  \n",
    "    energy_means = []\n",
    "    execution_times = []\n",
    "    for splitting_factor in range(1, max_splitting_factor + 1):\n",
    "        num_particles = math.ceil(max_particles / splitting_factor)\n",
    "        energies = []\n",
    "        for _ in range(num_runs):\n",
    "            dyn = DistributedCBO(\n",
    "                f=f,\n",
    "                num_agent_batches=splitting_factor,\n",
    "                synchronization_interval=synchronization_interval,\n",
    "                synchronization_method=synchronization_method,\n",
    "                use_async_communication=use_async_communication,\n",
    "                N=num_particles,\n",
    "                verbose=False,\n",
    "                max_it=10000,\n",
    "                **conf\n",
    "            )\n",
    "\n",
    "            # Run optimization and measure time\n",
    "            tick = time.time()\n",
    "            energies.append(\n",
    "                f(dyn.optimize(num_steps=num_steps, sched='default'))\n",
    "            )\n",
    "            tock = time.time()\n",
    "            execution_times.append(tock - tick)\n",
    "\n",
    "        mean_energy = np.mean(energies)\n",
    "        print(f\"Splitting factor: {splitting_factor}, mean energy: {mean_energy}. Execution time: {np.mean(execution_times)}\")\n",
    "        energy_means.append(np.mean(energies))  \n",
    "\n",
    "    if axs is not None:\n",
    "        async_label = 'Async' if use_async_communication else 'Sync'\n",
    "        axs.plot(list(range(1, max_splitting_factor + 1)), energy_means, label=f'Distributed CBO {async_label}')\n"
   ]
  },
  {
   "cell_type": "code",
   "execution_count": null,
   "id": "f8b6f51b",
   "metadata": {},
   "outputs": [],
   "source": [
    "def benchmark_standard_cbo(\n",
    "    f: callable,\n",
    "    num_runs: int,\n",
    "    num_particles: int,\n",
    "    axs=None,\n",
    "):\n",
    "    energies = []\n",
    "    execution_times = []\n",
    "    for _ in range(num_runs):\n",
    "        dyn = CBO(\n",
    "            f,\n",
    "            N=num_particles,\n",
    "            verbosity=0,\n",
    "            max_it=10000,\n",
    "            batch_args=None,\n",
    "            M=1,\n",
    "            **conf\n",
    "        )\n",
    "\n",
    "        # Run optimization and measure time\n",
    "        tick = time.time()\n",
    "        energies.append(\n",
    "            f(dyn.optimize())\n",
    "        )\n",
    "        tock = time.time()\n",
    "        execution_times.append(tock - tick)\n",
    "    print(f\"Non distributed mean energy: {np.mean(energies)}. Execution time: {np.mean(execution_times)}\")\n",
    "\n",
    "    # Plot mean of undistributed energies as a horizontal line\n",
    "    if axs is not None:\n",
    "        axs.axhline(y=np.mean(energies), color='r', linestyle='--', label='Standard CBO')\n"
   ]
  },
  {
   "cell_type": "markdown",
   "id": "a4b6d990",
   "metadata": {},
   "source": [
    "# Benchmark"
   ]
  },
  {
   "cell_type": "code",
   "execution_count": null,
   "id": "c4ba53c0",
   "metadata": {},
   "outputs": [],
   "source": [
    "# Benchmarking params\n",
    "NUM_RUNS = 100\n",
    "MAX_SPLITTING_FACTOR = 10\n",
    "MAX_PARTICLES = 100\n",
    "SYNCHRONIZATION_INTERVAL = 10\n",
    "SYNCHRONIZATION_METHOD = 'weighted_mean'"
   ]
  },
  {
   "cell_type": "code",
   "execution_count": null,
   "id": "6416fde4",
   "metadata": {},
   "outputs": [],
   "source": [
    "def run_experiment(\n",
    "    f: callable,\n",
    "    d: int,\n",
    "    n: int\n",
    "):\n",
    "    fig, axs = plt.subplots(1, 1)\n",
    "\n",
    "    conf['d'] = d\n",
    "    # Baseline (standard CBO)\n",
    "    benchmark_standard_cbo(\n",
    "        f=f,\n",
    "        num_runs=NUM_RUNS,\n",
    "        num_particles=n,\n",
    "        axs=axs\n",
    "    )\n",
    "\n",
    "    # Synchronous\n",
    "    benchmark_distributed_cbo(\n",
    "        f=f,\n",
    "        use_async_communication=False,\n",
    "        num_runs=NUM_RUNS,\n",
    "        max_splitting_factor=MAX_SPLITTING_FACTOR,\n",
    "        max_particles=n,\n",
    "        synchronization_interval=SYNCHRONIZATION_INTERVAL,\n",
    "        synchronization_method=SYNCHRONIZATION_METHOD,\n",
    "        num_steps=1000000,   # Arbitrarily high number since we depend on the termination criteria\n",
    "        axs=axs\n",
    "    )\n",
    "\n",
    "    # Asynchronous\n",
    "    benchmark_distributed_cbo(\n",
    "        f=f,\n",
    "        use_async_communication=True,\n",
    "        num_runs=NUM_RUNS,\n",
    "        max_splitting_factor=MAX_SPLITTING_FACTOR,\n",
    "        max_particles=n,\n",
    "        synchronization_interval=SYNCHRONIZATION_INTERVAL,\n",
    "        synchronization_method=SYNCHRONIZATION_METHOD,\n",
    "        num_steps=100,\n",
    "        axs=axs\n",
    "    )\n",
    "\n",
    "    function_label = f.__class__.__name__ + f\" dim={d}\"\n",
    "    axs.set_xlabel(f\"Splitting factor\")\n",
    "    axs.set_ylabel(f\"Mean energy\")\n",
    "    axs.set_title(f\"{function_label}\\nsync interval: {SYNCHRONIZATION_INTERVAL}, sync method: {SYNCHRONIZATION_METHOD}, particles: {MAX_PARTICLES}\")\n",
    "    axs.legend()\n",
    "    \n",
    "    fig.show()"
   ]
  },
  {
   "cell_type": "markdown",
   "id": "651fd903",
   "metadata": {},
   "source": [
    "## Ackley (d=5, N=100)"
   ]
  },
  {
   "cell_type": "code",
   "execution_count": null,
   "id": "f110b71c",
   "metadata": {},
   "outputs": [],
   "source": [
    "run_experiment(Ackley(), d=5, n=100)"
   ]
  },
  {
   "cell_type": "markdown",
   "id": "375f6b72",
   "metadata": {},
   "source": [
    "## Ackley (d=10, N=100)"
   ]
  },
  {
   "cell_type": "code",
   "execution_count": null,
   "id": "29c40af0",
   "metadata": {},
   "outputs": [],
   "source": [
    "run_experiment(Ackley(), d=10, n=100)"
   ]
  },
  {
   "cell_type": "markdown",
   "id": "46426c04",
   "metadata": {},
   "source": [
    "## Ackley (d=20, N=100)"
   ]
  },
  {
   "cell_type": "code",
   "execution_count": null,
   "id": "2aadec65",
   "metadata": {},
   "outputs": [],
   "source": [
    "run_experiment(Ackley(), d=20, n=100)"
   ]
  }
 ],
 "metadata": {
  "kernelspec": {
   "display_name": "Python 3 (ipykernel)",
   "language": "python",
   "name": "python3"
  },
  "language_info": {
   "codemirror_mode": {
    "name": "ipython",
    "version": 3
   },
   "file_extension": ".py",
   "mimetype": "text/x-python",
   "name": "python",
   "nbconvert_exporter": "python",
   "pygments_lexer": "ipython3",
   "version": "3.8.10"
  }
 },
 "nbformat": 4,
 "nbformat_minor": 5
}
